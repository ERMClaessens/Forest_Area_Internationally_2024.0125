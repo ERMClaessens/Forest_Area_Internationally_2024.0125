{
 "cells": [
  {
   "cell_type": "markdown",
   "metadata": {},
   "source": [
    "Load databases"
   ]
  },
  {
   "cell_type": "code",
   "execution_count": 1,
   "metadata": {},
   "outputs": [],
   "source": [
    "database_loc = R\"D:\\_Freelancing_\\Portfolio\\Forest_Area_Internationally_2024.0125\\API_6_DS2_en_csv_v2_6303688.csv\"\n",
    "\n",
    "import duckdb\n",
    "connection = duckdb.connect(database=':memory:')\n",
    "import pandas as pd\n",
    "import plotly\n",
    "\n",
    "create_table_total_total_total_total_total_total_query = \"\"\"\n",
    "DROP TABLE ForestDB;\n",
    "\"\"\"\n"
   ]
  },
  {
   "cell_type": "code",
   "execution_count": 112,
   "metadata": {},
   "outputs": [
    {
     "name": "stdout",
     "output_type": "stream",
     "text": [
      "CONCAT(y1993, '%') AS y1993,\n",
      "CONCAT(y1994, '%') AS y1994,\n",
      "CONCAT(y1995, '%') AS y1995,\n",
      "CONCAT(y1996, '%') AS y1996,\n",
      "CONCAT(y1997, '%') AS y1997,\n",
      "CONCAT(y1998, '%') AS y1998,\n",
      "CONCAT(y1999, '%') AS y1999,\n",
      "CONCAT(y2000, '%') AS y2000,\n",
      "CONCAT(y2001, '%') AS y2001,\n",
      "CONCAT(y2002, '%') AS y2002,\n",
      "CONCAT(y2003, '%') AS y2003,\n",
      "CONCAT(y2004, '%') AS y2004,\n",
      "CONCAT(y2005, '%') AS y2005,\n",
      "CONCAT(y2006, '%') AS y2006,\n",
      "CONCAT(y2007, '%') AS y2007,\n",
      "CONCAT(y2008, '%') AS y2008,\n",
      "CONCAT(y2009, '%') AS y2009,\n",
      "CONCAT(y2010, '%') AS y2010,\n",
      "CONCAT(y2011, '%') AS y2011,\n",
      "CONCAT(y2012, '%') AS y2012,\n",
      "CONCAT(y2013, '%') AS y2013,\n",
      "CONCAT(y2014, '%') AS y2014,\n",
      "CONCAT(y2015, '%') AS y2015,\n",
      "CONCAT(y2016, '%') AS y2016,\n",
      "CONCAT(y2017, '%') AS y2017,\n",
      "CONCAT(y2018, '%') AS y2018,\n",
      "CONCAT(y2019, '%') AS y2019,\n",
      "CONCAT(y2020, '%') AS y2020,\n",
      "CONCAT(y2021, '%') AS y2021,\n",
      "CONCAT(y2022, '%') AS y2022,\n",
      "done\n"
     ]
    }
   ],
   "source": [
    "#To copy paste all the years present in the excel file:\n",
    "x = 1993\n",
    "while x < 2023:\n",
    "    print(f\"CONCAT(y{x}, '%') AS y{x},\")\n",
    "    x += 1\n",
    "print(\"done\")\n",
    "\n",
    "\n",
    "# print(f\"y{x} INT64,\")\n",
    "# print(f\"y{x} = CONCAT(y{x}, '%'),\"),\n"
   ]
  },
  {
   "cell_type": "markdown",
   "metadata": {},
   "source": [
    "Create temporary database"
   ]
  },
  {
   "cell_type": "code",
   "execution_count": 105,
   "metadata": {},
   "outputs": [
    {
     "data": {
      "text/html": [
       "<div>\n",
       "<style scoped>\n",
       "    .dataframe tbody tr th:only-of-type {\n",
       "        vertical-align: middle;\n",
       "    }\n",
       "\n",
       "    .dataframe tbody tr th {\n",
       "        vertical-align: top;\n",
       "    }\n",
       "\n",
       "    .dataframe thead th {\n",
       "        text-align: right;\n",
       "    }\n",
       "</style>\n",
       "<table border=\"1\" class=\"dataframe\">\n",
       "  <thead>\n",
       "    <tr style=\"text-align: right;\">\n",
       "      <th></th>\n",
       "      <th>Country_Name</th>\n",
       "      <th>Country_Code</th>\n",
       "      <th>Indicator_Name</th>\n",
       "      <th>Indicator_Code</th>\n",
       "      <th>y1960</th>\n",
       "      <th>y1961</th>\n",
       "      <th>y1962</th>\n",
       "      <th>y1963</th>\n",
       "      <th>y1964</th>\n",
       "      <th>y1965</th>\n",
       "      <th>...</th>\n",
       "      <th>y2013</th>\n",
       "      <th>y2014</th>\n",
       "      <th>y2015</th>\n",
       "      <th>y2016</th>\n",
       "      <th>y2017</th>\n",
       "      <th>y2018</th>\n",
       "      <th>y2019</th>\n",
       "      <th>y2020</th>\n",
       "      <th>y2021</th>\n",
       "      <th>y2022</th>\n",
       "    </tr>\n",
       "  </thead>\n",
       "  <tbody>\n",
       "    <tr>\n",
       "      <th>0</th>\n",
       "      <td>Aruba</td>\n",
       "      <td>ABW</td>\n",
       "      <td>Mortality rate attributed to unsafe water, uns...</td>\n",
       "      <td>SH.STA.WASH.P5</td>\n",
       "      <td>NaN</td>\n",
       "      <td>NaN</td>\n",
       "      <td>NaN</td>\n",
       "      <td>NaN</td>\n",
       "      <td>NaN</td>\n",
       "      <td>NaN</td>\n",
       "      <td>...</td>\n",
       "      <td>NaN</td>\n",
       "      <td>NaN</td>\n",
       "      <td>NaN</td>\n",
       "      <td>NaN</td>\n",
       "      <td>NaN</td>\n",
       "      <td>NaN</td>\n",
       "      <td>NaN</td>\n",
       "      <td>NaN</td>\n",
       "      <td>NaN</td>\n",
       "      <td>NaN</td>\n",
       "    </tr>\n",
       "  </tbody>\n",
       "</table>\n",
       "<p>1 rows × 67 columns</p>\n",
       "</div>"
      ],
      "text/plain": [
       "  Country_Name Country_Code  \\\n",
       "0        Aruba          ABW   \n",
       "\n",
       "                                      Indicator_Name  Indicator_Code  y1960  \\\n",
       "0  Mortality rate attributed to unsafe water, uns...  SH.STA.WASH.P5    NaN   \n",
       "\n",
       "   y1961  y1962  y1963  y1964  y1965  ...  y2013  y2014  y2015  y2016  y2017  \\\n",
       "0    NaN    NaN    NaN    NaN    NaN  ...    NaN    NaN    NaN    NaN    NaN   \n",
       "\n",
       "   y2018  y2019  y2020  y2021  y2022  \n",
       "0    NaN    NaN    NaN    NaN    NaN  \n",
       "\n",
       "[1 rows x 67 columns]"
      ]
     },
     "execution_count": 105,
     "metadata": {},
     "output_type": "execute_result"
    }
   ],
   "source": [
    "create_table_query = \"\"\"\n",
    "CREATE TABLE IF NOT EXISTS ForestDB (\n",
    "    Country_Name string,\n",
    "    Country_Code string,\n",
    "    Indicator_Name string,\n",
    "    Indicator_Code string,\n",
    "    y1960 INT64,\n",
    "    y1961 INT64,\n",
    "    y1962 INT64,\n",
    "    y1963 INT64,\n",
    "    y1964 INT64,\n",
    "    y1965 INT64,\n",
    "    y1966 INT64,\n",
    "    y1967 INT64,\n",
    "    y1968 INT64,\n",
    "    y1969 INT64,\n",
    "    y1970 INT64,\n",
    "    y1971 INT64,\n",
    "    y1972 INT64,\n",
    "    y1973 INT64,\n",
    "    y1974 INT64,\n",
    "    y1975 INT64,\n",
    "    y1976 INT64,\n",
    "    y1977 INT64,\n",
    "    y1978 INT64,\n",
    "    y1979 INT64,\n",
    "    y1980 INT64,\n",
    "    y1981 INT64,\n",
    "    y1982 INT64,\n",
    "    y1983 INT64,\n",
    "    y1984 INT64,\n",
    "    y1985 INT64,\n",
    "    y1986 INT64,\n",
    "    y1987 INT64,\n",
    "    y1988 INT64,\n",
    "    y1989 INT64,\n",
    "    y1990 INT64,\n",
    "    y1991 INT64,\n",
    "    y1992 INT64,\n",
    "    y1993 INT64,\n",
    "    y1994 INT64,\n",
    "    y1995 INT64,\n",
    "    y1996 INT64,\n",
    "    y1997 INT64,\n",
    "    y1998 INT64,\n",
    "    y1999 INT64,\n",
    "    y2000 INT64,\n",
    "    y2001 INT64,\n",
    "    y2002 INT64,\n",
    "    y2003 INT64,\n",
    "    y2004 INT64,\n",
    "    y2005 INT64,\n",
    "    y2006 INT64,\n",
    "    y2007 INT64,\n",
    "    y2008 INT64,\n",
    "    y2009 INT64,\n",
    "    y2010 INT64,\n",
    "    y2011 INT64,\n",
    "    y2012 INT64,\n",
    "    y2013 INT64,\n",
    "    y2014 INT64,\n",
    "    y2015 INT64,\n",
    "    y2016 INT64,\n",
    "    y2017 INT64,\n",
    "    y2018 INT64,\n",
    "    y2019 INT64,\n",
    "    y2020 INT64,\n",
    "    y2021 INT64,\n",
    "    y2022 INT64\n",
    ");\n",
    "\"\"\"\n",
    "connection.execute(create_table_query)\n",
    "\n",
    "load_data_query = FR\"\"\"\n",
    "INSERT INTO ForestDB\n",
    "SELECT\n",
    "    Country_Name,\n",
    "    Country_Code,\n",
    "    Indicator_Name,\n",
    "    Indicator_Code,\n",
    "    y1960,\n",
    "    y1961,\n",
    "    y1962,\n",
    "    y1963,\n",
    "    y1964,\n",
    "    y1965,\n",
    "    y1966,\n",
    "    y1967,\n",
    "    y1968,\n",
    "    y1969,\n",
    "    y1970,\n",
    "    y1971,\n",
    "    y1972,\n",
    "    y1973,\n",
    "    y1974,\n",
    "    y1975,\n",
    "    y1976,\n",
    "    y1977,\n",
    "    y1978,\n",
    "    y1979,\n",
    "    y1980,\n",
    "    y1981,\n",
    "    y1982,\n",
    "    y1983,\n",
    "    y1984,\n",
    "    y1985,\n",
    "    y1986,\n",
    "    y1987,\n",
    "    y1988,\n",
    "    y1989,\n",
    "    y1990,\n",
    "    y1991,\n",
    "    y1992,\n",
    "    y1993,\n",
    "    y1994,\n",
    "    y1995,\n",
    "    y1996,\n",
    "    y1997,\n",
    "    y1998,\n",
    "    y1999,\n",
    "    y2000,\n",
    "    y2001,\n",
    "    y2002,\n",
    "    y2003,\n",
    "    y2004,\n",
    "    y2005,\n",
    "    y2006,\n",
    "    y2007,\n",
    "    y2008,\n",
    "    y2009,\n",
    "    y2010,\n",
    "    y2011,\n",
    "    y2012,\n",
    "    y2013,\n",
    "    y2014,\n",
    "    y2015,\n",
    "    y2016,\n",
    "    y2017,\n",
    "    y2018,\n",
    "    y2019,\n",
    "    y2020,\n",
    "    y2021,\n",
    "    y2022\n",
    "FROM\n",
    "    read_csv_auto('{database_loc}');\n",
    "\"\"\"\n",
    "\n",
    "connection.execute(load_data_query)\n",
    "\n",
    "\n",
    "database = connection.execute(\"SELECT* FROM ForestDB LIMIT 1\").df()\n",
    "database"
   ]
  },
  {
   "cell_type": "markdown",
   "metadata": {},
   "source": [
    "Question: which country has lost the most Area of Forest from 1993 to 2021?"
   ]
  },
  {
   "cell_type": "code",
   "execution_count": 113,
   "metadata": {},
   "outputs": [
    {
     "data": {
      "text/html": [
       "<div>\n",
       "<style scoped>\n",
       "    .dataframe tbody tr th:only-of-type {\n",
       "        vertical-align: middle;\n",
       "    }\n",
       "\n",
       "    .dataframe tbody tr th {\n",
       "        vertical-align: top;\n",
       "    }\n",
       "\n",
       "    .dataframe thead th {\n",
       "        text-align: right;\n",
       "    }\n",
       "</style>\n",
       "<table border=\"1\" class=\"dataframe\">\n",
       "  <thead>\n",
       "    <tr style=\"text-align: right;\">\n",
       "      <th></th>\n",
       "      <th>Country Name</th>\n",
       "      <th>Indicator Name</th>\n",
       "      <th>y1993</th>\n",
       "      <th>y1994</th>\n",
       "      <th>y1995</th>\n",
       "      <th>y1996</th>\n",
       "      <th>y1997</th>\n",
       "      <th>y1998</th>\n",
       "      <th>y1999</th>\n",
       "      <th>y2000</th>\n",
       "      <th>...</th>\n",
       "      <th>y2014</th>\n",
       "      <th>y2015</th>\n",
       "      <th>y2016</th>\n",
       "      <th>y2017</th>\n",
       "      <th>y2018</th>\n",
       "      <th>y2019</th>\n",
       "      <th>y2020</th>\n",
       "      <th>y2021</th>\n",
       "      <th>y2022</th>\n",
       "      <th>Total Forest Area Lost (1993 - 2021)</th>\n",
       "    </tr>\n",
       "  </thead>\n",
       "  <tbody>\n",
       "    <tr>\n",
       "      <th>0</th>\n",
       "      <td>Nicaragua</td>\n",
       "      <td>Forest area (% of land area)</td>\n",
       "      <td>51%</td>\n",
       "      <td>50%</td>\n",
       "      <td>49%</td>\n",
       "      <td>48%</td>\n",
       "      <td>47%</td>\n",
       "      <td>47%</td>\n",
       "      <td>46%</td>\n",
       "      <td>45%</td>\n",
       "      <td>...</td>\n",
       "      <td>33%</td>\n",
       "      <td>32%</td>\n",
       "      <td>32%</td>\n",
       "      <td>31%</td>\n",
       "      <td>30%</td>\n",
       "      <td>29%</td>\n",
       "      <td>28%</td>\n",
       "      <td>27%</td>\n",
       "      <td>%</td>\n",
       "      <td>-24</td>\n",
       "    </tr>\n",
       "    <tr>\n",
       "      <th>1</th>\n",
       "      <td>Paraguay</td>\n",
       "      <td>Forest area (% of land area)</td>\n",
       "      <td>62%</td>\n",
       "      <td>62%</td>\n",
       "      <td>61%</td>\n",
       "      <td>60%</td>\n",
       "      <td>60%</td>\n",
       "      <td>59%</td>\n",
       "      <td>59%</td>\n",
       "      <td>58%</td>\n",
       "      <td>...</td>\n",
       "      <td>45%</td>\n",
       "      <td>44%</td>\n",
       "      <td>44%</td>\n",
       "      <td>43%</td>\n",
       "      <td>42%</td>\n",
       "      <td>41%</td>\n",
       "      <td>41%</td>\n",
       "      <td>40%</td>\n",
       "      <td>%</td>\n",
       "      <td>-22</td>\n",
       "    </tr>\n",
       "    <tr>\n",
       "      <th>2</th>\n",
       "      <td>Northern Mariana Islands</td>\n",
       "      <td>Forest area (% of land area)</td>\n",
       "      <td>72%</td>\n",
       "      <td>72%</td>\n",
       "      <td>71%</td>\n",
       "      <td>71%</td>\n",
       "      <td>71%</td>\n",
       "      <td>70%</td>\n",
       "      <td>70%</td>\n",
       "      <td>69%</td>\n",
       "      <td>...</td>\n",
       "      <td>64%</td>\n",
       "      <td>64%</td>\n",
       "      <td>53%</td>\n",
       "      <td>53%</td>\n",
       "      <td>53%</td>\n",
       "      <td>53%</td>\n",
       "      <td>53%</td>\n",
       "      <td>53%</td>\n",
       "      <td>%</td>\n",
       "      <td>-19</td>\n",
       "    </tr>\n",
       "    <tr>\n",
       "      <th>3</th>\n",
       "      <td>Cambodia</td>\n",
       "      <td>Forest area (% of land area)</td>\n",
       "      <td>62%</td>\n",
       "      <td>62%</td>\n",
       "      <td>62%</td>\n",
       "      <td>62%</td>\n",
       "      <td>61%</td>\n",
       "      <td>61%</td>\n",
       "      <td>61%</td>\n",
       "      <td>61%</td>\n",
       "      <td>...</td>\n",
       "      <td>52%</td>\n",
       "      <td>50%</td>\n",
       "      <td>49%</td>\n",
       "      <td>48%</td>\n",
       "      <td>47%</td>\n",
       "      <td>47%</td>\n",
       "      <td>46%</td>\n",
       "      <td>45%</td>\n",
       "      <td>%</td>\n",
       "      <td>-17</td>\n",
       "    </tr>\n",
       "    <tr>\n",
       "      <th>4</th>\n",
       "      <td>Gambia, The</td>\n",
       "      <td>Forest area (% of land area)</td>\n",
       "      <td>39%</td>\n",
       "      <td>39%</td>\n",
       "      <td>38%</td>\n",
       "      <td>38%</td>\n",
       "      <td>37%</td>\n",
       "      <td>36%</td>\n",
       "      <td>36%</td>\n",
       "      <td>35%</td>\n",
       "      <td>...</td>\n",
       "      <td>27%</td>\n",
       "      <td>27%</td>\n",
       "      <td>26%</td>\n",
       "      <td>26%</td>\n",
       "      <td>25%</td>\n",
       "      <td>25%</td>\n",
       "      <td>24%</td>\n",
       "      <td>23%</td>\n",
       "      <td>%</td>\n",
       "      <td>-16</td>\n",
       "    </tr>\n",
       "  </tbody>\n",
       "</table>\n",
       "<p>5 rows × 33 columns</p>\n",
       "</div>"
      ],
      "text/plain": [
       "               Country Name                Indicator Name y1993 y1994 y1995  \\\n",
       "0                 Nicaragua  Forest area (% of land area)   51%   50%   49%   \n",
       "1                  Paraguay  Forest area (% of land area)   62%   62%   61%   \n",
       "2  Northern Mariana Islands  Forest area (% of land area)   72%   72%   71%   \n",
       "3                  Cambodia  Forest area (% of land area)   62%   62%   62%   \n",
       "4               Gambia, The  Forest area (% of land area)   39%   39%   38%   \n",
       "\n",
       "  y1996 y1997 y1998 y1999 y2000  ... y2014 y2015 y2016 y2017 y2018 y2019  \\\n",
       "0   48%   47%   47%   46%   45%  ...   33%   32%   32%   31%   30%   29%   \n",
       "1   60%   60%   59%   59%   58%  ...   45%   44%   44%   43%   42%   41%   \n",
       "2   71%   71%   70%   70%   69%  ...   64%   64%   53%   53%   53%   53%   \n",
       "3   62%   61%   61%   61%   61%  ...   52%   50%   49%   48%   47%   47%   \n",
       "4   38%   37%   36%   36%   35%  ...   27%   27%   26%   26%   25%   25%   \n",
       "\n",
       "  y2020 y2021 y2022 Total Forest Area Lost (1993 - 2021)  \n",
       "0   28%   27%     %                                  -24  \n",
       "1   41%   40%     %                                  -22  \n",
       "2   53%   53%     %                                  -19  \n",
       "3   46%   45%     %                                  -17  \n",
       "4   24%   23%     %                                  -16  \n",
       "\n",
       "[5 rows x 33 columns]"
      ]
     },
     "execution_count": 113,
     "metadata": {},
     "output_type": "execute_result"
    }
   ],
   "source": [
    "query = \"\"\"\n",
    "SELECT \n",
    "    DISTINCT Country_Name AS 'Country Name',\n",
    "    Indicator_Name AS 'Indicator Name',\n",
    "    CONCAT(y1993, '%') AS y1993,\n",
    "    CONCAT(y1994, '%') AS y1994,\n",
    "    CONCAT(y1995, '%') AS y1995,\n",
    "    CONCAT(y1996, '%') AS y1996,\n",
    "    CONCAT(y1997, '%') AS y1997,\n",
    "    CONCAT(y1998, '%') AS y1998,\n",
    "    CONCAT(y1999, '%') AS y1999,\n",
    "    CONCAT(y2000, '%') AS y2000,\n",
    "    CONCAT(y2001, '%') AS y2001,\n",
    "    CONCAT(y2002, '%') AS y2002,\n",
    "    CONCAT(y2003, '%') AS y2003,\n",
    "    CONCAT(y2004, '%') AS y2004,\n",
    "    CONCAT(y2005, '%') AS y2005,\n",
    "    CONCAT(y2006, '%') AS y2006,\n",
    "    CONCAT(y2007, '%') AS y2007,\n",
    "    CONCAT(y2008, '%') AS y2008,\n",
    "    CONCAT(y2009, '%') AS y2009,\n",
    "    CONCAT(y2010, '%') AS y2010,\n",
    "    CONCAT(y2011, '%') AS y2011,\n",
    "    CONCAT(y2012, '%') AS y2012,\n",
    "    CONCAT(y2013, '%') AS y2013,\n",
    "    CONCAT(y2014, '%') AS y2014,\n",
    "    CONCAT(y2015, '%') AS y2015,\n",
    "    CONCAT(y2016, '%') AS y2016,\n",
    "    CONCAT(y2017, '%') AS y2017,\n",
    "    CONCAT(y2018, '%') AS y2018,\n",
    "    CONCAT(y2019, '%') AS y2019,\n",
    "    CONCAT(y2020, '%') AS y2020,\n",
    "    CONCAT(y2021, '%') AS y2021,\n",
    "    CONCAT(y2022, '%') AS y2022,\n",
    "    (y2021 - y1993) AS 'Total Forest Area Lost (1993 - 2021)'\n",
    "FROM ForestDB\n",
    "WHERE Indicator_Name ='Forest area (% of land area)'\n",
    "ORDER BY (y2021 - y1993) ASC\n",
    "LIMIT 5;\n",
    "\"\"\"\n",
    "table = connection.execute(query).df()\n",
    "table\n"
   ]
  },
  {
   "cell_type": "markdown",
   "metadata": {},
   "source": [
    "Create a linear graph that shows the decrease of forest area from 1993 to 2021 per country"
   ]
  },
  {
   "cell_type": "code",
   "execution_count": 120,
   "metadata": {},
   "outputs": [
    {
     "data": {
      "application/vnd.plotly.v1+json": {
       "config": {
        "plotlyServerURL": "https://plot.ly"
       },
       "data": [
        {
         "hovertemplate": "Country Name=Nicaragua<br>Year=%{x}<br>Forest Area=%{y}<extra></extra>",
         "legendgroup": "Nicaragua",
         "line": {
          "color": "red",
          "dash": "solid",
          "shape": "linear"
         },
         "marker": {
          "symbol": "circle"
         },
         "mode": "lines",
         "name": "Nicaragua",
         "orientation": "h",
         "showlegend": true,
         "type": "scatter",
         "x": [
          1993,
          1994,
          1995,
          1996,
          1997,
          1998,
          1999,
          2000,
          2001,
          2002,
          2003,
          2004,
          2005,
          2006,
          2007,
          2008,
          2009,
          2010,
          2011,
          2012,
          2013,
          2014,
          2015,
          2016,
          2017,
          2018,
          2019,
          2020,
          2021,
          2022
         ],
         "xaxis": "x",
         "y": [
          "51%",
          "50%",
          "49%",
          "48%",
          "47%",
          "47%",
          "46%",
          "45%",
          "44%",
          "43%",
          "42%",
          "41%",
          "40%",
          "39%",
          "38%",
          "37%",
          "36%",
          "35%",
          "34%",
          "34%",
          "33%",
          "33%",
          "32%",
          "32%",
          "31%",
          "30%",
          "29%",
          "28%",
          "27%",
          "%"
         ],
         "yaxis": "y"
        },
        {
         "hovertemplate": "Country Name=Paraguay<br>Year=%{x}<br>Forest Area=%{y}<extra></extra>",
         "legendgroup": "Paraguay",
         "line": {
          "color": "gray",
          "dash": "solid",
          "shape": "linear"
         },
         "marker": {
          "symbol": "circle"
         },
         "mode": "lines",
         "name": "Paraguay",
         "orientation": "h",
         "showlegend": true,
         "type": "scatter",
         "x": [
          1993,
          1994,
          1995,
          1996,
          1997,
          1998,
          1999,
          2000,
          2001,
          2002,
          2003,
          2004,
          2005,
          2006,
          2007,
          2008,
          2009,
          2010,
          2011,
          2012,
          2013,
          2014,
          2015,
          2016,
          2017,
          2018,
          2019,
          2020,
          2021,
          2022
         ],
         "xaxis": "x",
         "y": [
          "62%",
          "62%",
          "61%",
          "60%",
          "60%",
          "59%",
          "59%",
          "58%",
          "57%",
          "56%",
          "55%",
          "54%",
          "54%",
          "53%",
          "52%",
          "51%",
          "50%",
          "49%",
          "48%",
          "47%",
          "46%",
          "45%",
          "44%",
          "44%",
          "43%",
          "42%",
          "41%",
          "41%",
          "40%",
          "%"
         ],
         "yaxis": "y"
        },
        {
         "hovertemplate": "Country Name=Northern Mariana Islands<br>Year=%{x}<br>Forest Area=%{y}<extra></extra>",
         "legendgroup": "Northern Mariana Islands",
         "line": {
          "color": "gray",
          "dash": "solid",
          "shape": "linear"
         },
         "marker": {
          "symbol": "circle"
         },
         "mode": "lines",
         "name": "Northern Mariana Islands",
         "orientation": "h",
         "showlegend": true,
         "type": "scatter",
         "x": [
          1993,
          1994,
          1995,
          1996,
          1997,
          1998,
          1999,
          2000,
          2001,
          2002,
          2003,
          2004,
          2005,
          2006,
          2007,
          2008,
          2009,
          2010,
          2011,
          2012,
          2013,
          2014,
          2015,
          2016,
          2017,
          2018,
          2019,
          2020,
          2021,
          2022
         ],
         "xaxis": "x",
         "y": [
          "72%",
          "72%",
          "71%",
          "71%",
          "71%",
          "70%",
          "70%",
          "69%",
          "69%",
          "69%",
          "68%",
          "68%",
          "68%",
          "67%",
          "67%",
          "67%",
          "66%",
          "66%",
          "66%",
          "65%",
          "65%",
          "64%",
          "64%",
          "53%",
          "53%",
          "53%",
          "53%",
          "53%",
          "53%",
          "%"
         ],
         "yaxis": "y"
        },
        {
         "hovertemplate": "Country Name=Cambodia<br>Year=%{x}<br>Forest Area=%{y}<extra></extra>",
         "legendgroup": "Cambodia",
         "line": {
          "color": "gray",
          "dash": "solid",
          "shape": "linear"
         },
         "marker": {
          "symbol": "circle"
         },
         "mode": "lines",
         "name": "Cambodia",
         "orientation": "h",
         "showlegend": true,
         "type": "scatter",
         "x": [
          1993,
          1994,
          1995,
          1996,
          1997,
          1998,
          1999,
          2000,
          2001,
          2002,
          2003,
          2004,
          2005,
          2006,
          2007,
          2008,
          2009,
          2010,
          2011,
          2012,
          2013,
          2014,
          2015,
          2016,
          2017,
          2018,
          2019,
          2020,
          2021,
          2022
         ],
         "xaxis": "x",
         "y": [
          "62%",
          "62%",
          "62%",
          "62%",
          "61%",
          "61%",
          "61%",
          "61%",
          "61%",
          "61%",
          "61%",
          "61%",
          "61%",
          "60%",
          "60%",
          "60%",
          "60%",
          "60%",
          "58%",
          "56%",
          "54%",
          "52%",
          "50%",
          "49%",
          "48%",
          "47%",
          "47%",
          "46%",
          "45%",
          "%"
         ],
         "yaxis": "y"
        },
        {
         "hovertemplate": "Country Name=Gambia, The<br>Year=%{x}<br>Forest Area=%{y}<extra></extra>",
         "legendgroup": "Gambia, The",
         "line": {
          "color": "gray",
          "dash": "solid",
          "shape": "linear"
         },
         "marker": {
          "symbol": "circle"
         },
         "mode": "lines",
         "name": "Gambia, The",
         "orientation": "h",
         "showlegend": true,
         "type": "scatter",
         "x": [
          1993,
          1994,
          1995,
          1996,
          1997,
          1998,
          1999,
          2000,
          2001,
          2002,
          2003,
          2004,
          2005,
          2006,
          2007,
          2008,
          2009,
          2010,
          2011,
          2012,
          2013,
          2014,
          2015,
          2016,
          2017,
          2018,
          2019,
          2020,
          2021,
          2022
         ],
         "xaxis": "x",
         "y": [
          "39%",
          "39%",
          "38%",
          "38%",
          "37%",
          "36%",
          "36%",
          "35%",
          "35%",
          "34%",
          "34%",
          "33%",
          "32%",
          "32%",
          "31%",
          "31%",
          "30%",
          "30%",
          "29%",
          "29%",
          "28%",
          "27%",
          "27%",
          "26%",
          "26%",
          "25%",
          "25%",
          "24%",
          "23%",
          "%"
         ],
         "yaxis": "y"
        }
       ],
       "layout": {
        "annotations": [
         {
          "showarrow": false,
          "text": "<b>Nicaragua<b>",
          "x": 2003,
          "y": "42%",
          "yshift": 20
         },
         {
          "showarrow": false,
          "text": "<b>Total % Lost: -24%<b>",
          "x": 2022,
          "y": "%",
          "yshift": 25
         }
        ],
        "font": {
         "color": "white"
        },
        "height": 600,
        "legend": {
         "title": {
          "text": "Country Name"
         },
         "tracegroupgap": 0
        },
        "margin": {
         "t": 60
        },
        "paper_bgcolor": "rgb(17,17,17)",
        "plot_bgcolor": "rgb(17,17,17)",
        "showlegend": false,
        "template": {
         "data": {
          "bar": [
           {
            "error_x": {
             "color": "#2a3f5f"
            },
            "error_y": {
             "color": "#2a3f5f"
            },
            "marker": {
             "line": {
              "color": "#E5ECF6",
              "width": 0.5
             },
             "pattern": {
              "fillmode": "overlay",
              "size": 10,
              "solidity": 0.2
             }
            },
            "type": "bar"
           }
          ],
          "barpolar": [
           {
            "marker": {
             "line": {
              "color": "#E5ECF6",
              "width": 0.5
             },
             "pattern": {
              "fillmode": "overlay",
              "size": 10,
              "solidity": 0.2
             }
            },
            "type": "barpolar"
           }
          ],
          "carpet": [
           {
            "aaxis": {
             "endlinecolor": "#2a3f5f",
             "gridcolor": "white",
             "linecolor": "white",
             "minorgridcolor": "white",
             "startlinecolor": "#2a3f5f"
            },
            "baxis": {
             "endlinecolor": "#2a3f5f",
             "gridcolor": "white",
             "linecolor": "white",
             "minorgridcolor": "white",
             "startlinecolor": "#2a3f5f"
            },
            "type": "carpet"
           }
          ],
          "choropleth": [
           {
            "colorbar": {
             "outlinewidth": 0,
             "ticks": ""
            },
            "type": "choropleth"
           }
          ],
          "contour": [
           {
            "colorbar": {
             "outlinewidth": 0,
             "ticks": ""
            },
            "colorscale": [
             [
              0,
              "#0d0887"
             ],
             [
              0.1111111111111111,
              "#46039f"
             ],
             [
              0.2222222222222222,
              "#7201a8"
             ],
             [
              0.3333333333333333,
              "#9c179e"
             ],
             [
              0.4444444444444444,
              "#bd3786"
             ],
             [
              0.5555555555555556,
              "#d8576b"
             ],
             [
              0.6666666666666666,
              "#ed7953"
             ],
             [
              0.7777777777777778,
              "#fb9f3a"
             ],
             [
              0.8888888888888888,
              "#fdca26"
             ],
             [
              1,
              "#f0f921"
             ]
            ],
            "type": "contour"
           }
          ],
          "contourcarpet": [
           {
            "colorbar": {
             "outlinewidth": 0,
             "ticks": ""
            },
            "type": "contourcarpet"
           }
          ],
          "heatmap": [
           {
            "colorbar": {
             "outlinewidth": 0,
             "ticks": ""
            },
            "colorscale": [
             [
              0,
              "#0d0887"
             ],
             [
              0.1111111111111111,
              "#46039f"
             ],
             [
              0.2222222222222222,
              "#7201a8"
             ],
             [
              0.3333333333333333,
              "#9c179e"
             ],
             [
              0.4444444444444444,
              "#bd3786"
             ],
             [
              0.5555555555555556,
              "#d8576b"
             ],
             [
              0.6666666666666666,
              "#ed7953"
             ],
             [
              0.7777777777777778,
              "#fb9f3a"
             ],
             [
              0.8888888888888888,
              "#fdca26"
             ],
             [
              1,
              "#f0f921"
             ]
            ],
            "type": "heatmap"
           }
          ],
          "heatmapgl": [
           {
            "colorbar": {
             "outlinewidth": 0,
             "ticks": ""
            },
            "colorscale": [
             [
              0,
              "#0d0887"
             ],
             [
              0.1111111111111111,
              "#46039f"
             ],
             [
              0.2222222222222222,
              "#7201a8"
             ],
             [
              0.3333333333333333,
              "#9c179e"
             ],
             [
              0.4444444444444444,
              "#bd3786"
             ],
             [
              0.5555555555555556,
              "#d8576b"
             ],
             [
              0.6666666666666666,
              "#ed7953"
             ],
             [
              0.7777777777777778,
              "#fb9f3a"
             ],
             [
              0.8888888888888888,
              "#fdca26"
             ],
             [
              1,
              "#f0f921"
             ]
            ],
            "type": "heatmapgl"
           }
          ],
          "histogram": [
           {
            "marker": {
             "pattern": {
              "fillmode": "overlay",
              "size": 10,
              "solidity": 0.2
             }
            },
            "type": "histogram"
           }
          ],
          "histogram2d": [
           {
            "colorbar": {
             "outlinewidth": 0,
             "ticks": ""
            },
            "colorscale": [
             [
              0,
              "#0d0887"
             ],
             [
              0.1111111111111111,
              "#46039f"
             ],
             [
              0.2222222222222222,
              "#7201a8"
             ],
             [
              0.3333333333333333,
              "#9c179e"
             ],
             [
              0.4444444444444444,
              "#bd3786"
             ],
             [
              0.5555555555555556,
              "#d8576b"
             ],
             [
              0.6666666666666666,
              "#ed7953"
             ],
             [
              0.7777777777777778,
              "#fb9f3a"
             ],
             [
              0.8888888888888888,
              "#fdca26"
             ],
             [
              1,
              "#f0f921"
             ]
            ],
            "type": "histogram2d"
           }
          ],
          "histogram2dcontour": [
           {
            "colorbar": {
             "outlinewidth": 0,
             "ticks": ""
            },
            "colorscale": [
             [
              0,
              "#0d0887"
             ],
             [
              0.1111111111111111,
              "#46039f"
             ],
             [
              0.2222222222222222,
              "#7201a8"
             ],
             [
              0.3333333333333333,
              "#9c179e"
             ],
             [
              0.4444444444444444,
              "#bd3786"
             ],
             [
              0.5555555555555556,
              "#d8576b"
             ],
             [
              0.6666666666666666,
              "#ed7953"
             ],
             [
              0.7777777777777778,
              "#fb9f3a"
             ],
             [
              0.8888888888888888,
              "#fdca26"
             ],
             [
              1,
              "#f0f921"
             ]
            ],
            "type": "histogram2dcontour"
           }
          ],
          "mesh3d": [
           {
            "colorbar": {
             "outlinewidth": 0,
             "ticks": ""
            },
            "type": "mesh3d"
           }
          ],
          "parcoords": [
           {
            "line": {
             "colorbar": {
              "outlinewidth": 0,
              "ticks": ""
             }
            },
            "type": "parcoords"
           }
          ],
          "pie": [
           {
            "automargin": true,
            "type": "pie"
           }
          ],
          "scatter": [
           {
            "fillpattern": {
             "fillmode": "overlay",
             "size": 10,
             "solidity": 0.2
            },
            "type": "scatter"
           }
          ],
          "scatter3d": [
           {
            "line": {
             "colorbar": {
              "outlinewidth": 0,
              "ticks": ""
             }
            },
            "marker": {
             "colorbar": {
              "outlinewidth": 0,
              "ticks": ""
             }
            },
            "type": "scatter3d"
           }
          ],
          "scattercarpet": [
           {
            "marker": {
             "colorbar": {
              "outlinewidth": 0,
              "ticks": ""
             }
            },
            "type": "scattercarpet"
           }
          ],
          "scattergeo": [
           {
            "marker": {
             "colorbar": {
              "outlinewidth": 0,
              "ticks": ""
             }
            },
            "type": "scattergeo"
           }
          ],
          "scattergl": [
           {
            "marker": {
             "colorbar": {
              "outlinewidth": 0,
              "ticks": ""
             }
            },
            "type": "scattergl"
           }
          ],
          "scattermapbox": [
           {
            "marker": {
             "colorbar": {
              "outlinewidth": 0,
              "ticks": ""
             }
            },
            "type": "scattermapbox"
           }
          ],
          "scatterpolar": [
           {
            "marker": {
             "colorbar": {
              "outlinewidth": 0,
              "ticks": ""
             }
            },
            "type": "scatterpolar"
           }
          ],
          "scatterpolargl": [
           {
            "marker": {
             "colorbar": {
              "outlinewidth": 0,
              "ticks": ""
             }
            },
            "type": "scatterpolargl"
           }
          ],
          "scatterternary": [
           {
            "marker": {
             "colorbar": {
              "outlinewidth": 0,
              "ticks": ""
             }
            },
            "type": "scatterternary"
           }
          ],
          "surface": [
           {
            "colorbar": {
             "outlinewidth": 0,
             "ticks": ""
            },
            "colorscale": [
             [
              0,
              "#0d0887"
             ],
             [
              0.1111111111111111,
              "#46039f"
             ],
             [
              0.2222222222222222,
              "#7201a8"
             ],
             [
              0.3333333333333333,
              "#9c179e"
             ],
             [
              0.4444444444444444,
              "#bd3786"
             ],
             [
              0.5555555555555556,
              "#d8576b"
             ],
             [
              0.6666666666666666,
              "#ed7953"
             ],
             [
              0.7777777777777778,
              "#fb9f3a"
             ],
             [
              0.8888888888888888,
              "#fdca26"
             ],
             [
              1,
              "#f0f921"
             ]
            ],
            "type": "surface"
           }
          ],
          "table": [
           {
            "cells": {
             "fill": {
              "color": "#EBF0F8"
             },
             "line": {
              "color": "white"
             }
            },
            "header": {
             "fill": {
              "color": "#C8D4E3"
             },
             "line": {
              "color": "white"
             }
            },
            "type": "table"
           }
          ]
         },
         "layout": {
          "annotationdefaults": {
           "arrowcolor": "#2a3f5f",
           "arrowhead": 0,
           "arrowwidth": 1
          },
          "autotypenumbers": "strict",
          "coloraxis": {
           "colorbar": {
            "outlinewidth": 0,
            "ticks": ""
           }
          },
          "colorscale": {
           "diverging": [
            [
             0,
             "#8e0152"
            ],
            [
             0.1,
             "#c51b7d"
            ],
            [
             0.2,
             "#de77ae"
            ],
            [
             0.3,
             "#f1b6da"
            ],
            [
             0.4,
             "#fde0ef"
            ],
            [
             0.5,
             "#f7f7f7"
            ],
            [
             0.6,
             "#e6f5d0"
            ],
            [
             0.7,
             "#b8e186"
            ],
            [
             0.8,
             "#7fbc41"
            ],
            [
             0.9,
             "#4d9221"
            ],
            [
             1,
             "#276419"
            ]
           ],
           "sequential": [
            [
             0,
             "#0d0887"
            ],
            [
             0.1111111111111111,
             "#46039f"
            ],
            [
             0.2222222222222222,
             "#7201a8"
            ],
            [
             0.3333333333333333,
             "#9c179e"
            ],
            [
             0.4444444444444444,
             "#bd3786"
            ],
            [
             0.5555555555555556,
             "#d8576b"
            ],
            [
             0.6666666666666666,
             "#ed7953"
            ],
            [
             0.7777777777777778,
             "#fb9f3a"
            ],
            [
             0.8888888888888888,
             "#fdca26"
            ],
            [
             1,
             "#f0f921"
            ]
           ],
           "sequentialminus": [
            [
             0,
             "#0d0887"
            ],
            [
             0.1111111111111111,
             "#46039f"
            ],
            [
             0.2222222222222222,
             "#7201a8"
            ],
            [
             0.3333333333333333,
             "#9c179e"
            ],
            [
             0.4444444444444444,
             "#bd3786"
            ],
            [
             0.5555555555555556,
             "#d8576b"
            ],
            [
             0.6666666666666666,
             "#ed7953"
            ],
            [
             0.7777777777777778,
             "#fb9f3a"
            ],
            [
             0.8888888888888888,
             "#fdca26"
            ],
            [
             1,
             "#f0f921"
            ]
           ]
          },
          "colorway": [
           "#636efa",
           "#EF553B",
           "#00cc96",
           "#ab63fa",
           "#FFA15A",
           "#19d3f3",
           "#FF6692",
           "#B6E880",
           "#FF97FF",
           "#FECB52"
          ],
          "font": {
           "color": "#2a3f5f"
          },
          "geo": {
           "bgcolor": "white",
           "lakecolor": "white",
           "landcolor": "#E5ECF6",
           "showlakes": true,
           "showland": true,
           "subunitcolor": "white"
          },
          "hoverlabel": {
           "align": "left"
          },
          "hovermode": "closest",
          "mapbox": {
           "style": "light"
          },
          "paper_bgcolor": "white",
          "plot_bgcolor": "#E5ECF6",
          "polar": {
           "angularaxis": {
            "gridcolor": "white",
            "linecolor": "white",
            "ticks": ""
           },
           "bgcolor": "#E5ECF6",
           "radialaxis": {
            "gridcolor": "white",
            "linecolor": "white",
            "ticks": ""
           }
          },
          "scene": {
           "xaxis": {
            "backgroundcolor": "#E5ECF6",
            "gridcolor": "white",
            "gridwidth": 2,
            "linecolor": "white",
            "showbackground": true,
            "ticks": "",
            "zerolinecolor": "white"
           },
           "yaxis": {
            "backgroundcolor": "#E5ECF6",
            "gridcolor": "white",
            "gridwidth": 2,
            "linecolor": "white",
            "showbackground": true,
            "ticks": "",
            "zerolinecolor": "white"
           },
           "zaxis": {
            "backgroundcolor": "#E5ECF6",
            "gridcolor": "white",
            "gridwidth": 2,
            "linecolor": "white",
            "showbackground": true,
            "ticks": "",
            "zerolinecolor": "white"
           }
          },
          "shapedefaults": {
           "line": {
            "color": "#2a3f5f"
           }
          },
          "ternary": {
           "aaxis": {
            "gridcolor": "white",
            "linecolor": "white",
            "ticks": ""
           },
           "baxis": {
            "gridcolor": "white",
            "linecolor": "white",
            "ticks": ""
           },
           "bgcolor": "#E5ECF6",
           "caxis": {
            "gridcolor": "white",
            "linecolor": "white",
            "ticks": ""
           }
          },
          "title": {
           "x": 0.05
          },
          "xaxis": {
           "automargin": true,
           "gridcolor": "white",
           "linecolor": "white",
           "ticks": "",
           "title": {
            "standoff": 15
           },
           "zerolinecolor": "white",
           "zerolinewidth": 2
          },
          "yaxis": {
           "automargin": true,
           "gridcolor": "white",
           "linecolor": "white",
           "ticks": "",
           "title": {
            "standoff": 15
           },
           "zerolinecolor": "white",
           "zerolinewidth": 2
          }
         }
        },
        "title": {
         "font": {
          "size": 20
         },
         "text": "<b>The Country With The Highest Loss of Forest Area From 1993 to 2021<b>",
         "x": 0.5
        },
        "width": 1000,
        "xaxis": {
         "anchor": "y",
         "domain": [
          0,
          1
         ],
         "range": [
          1993,
          2021
         ],
         "showgrid": false,
         "title": {
          "text": "Year"
         }
        },
        "yaxis": {
         "anchor": "x",
         "domain": [
          0,
          1
         ],
         "range": [
          0,
          100
         ],
         "showgrid": false,
         "title": {
          "text": "Forest Area"
         }
        }
       }
      }
     },
     "metadata": {},
     "output_type": "display_data"
    }
   ],
   "source": [
    "import plotly.express as px\n",
    "\n",
    "\n",
    "#edit database results for plotly\n",
    "table_melted = table.melt(id_vars=['Country Name', 'Indicator Name', 'Total Forest Area Lost (1993 - 2021)'], var_name='Year', value_name='Forest_Area')\n",
    "table_melted['Year'] = table_melted['Year'].str.extract('(\\d+)', expand=False).astype(int)\n",
    "\n",
    "\n",
    "\n",
    "#create graph\n",
    "fig = px.line(table_melted, \n",
    "              x='Year', \n",
    "              y='Forest_Area', \n",
    "              color='Country Name',\n",
    "              labels={'Forest_Area': 'Forest Area'},\n",
    "              line_shape='linear',\n",
    "              width=1000, height=600)\n",
    "\n",
    "\n",
    "#gray out all lines\n",
    "fig.update_traces(line=dict(color='gray'))\n",
    "\n",
    "#find Country with the highest total loss of Forest Area from 1993 to 2021\n",
    "highest_loss_country = table_melted.loc[table_melted['Total Forest Area Lost (1993 - 2021)'].idxmin()]['Country Name']\n",
    "\n",
    "\n",
    "#Add annotations to the country with the highest Forest loss\n",
    "anno_data = table_melted[table_melted['Country Name'] == highest_loss_country].iloc[10]\n",
    "fig.add_annotation(x=anno_data['Year'], y=anno_data['Forest_Area'],\n",
    "                   text=f\"<b>{highest_loss_country}<b>\",\n",
    "                   showarrow=False, yshift=20)\n",
    "    \n",
    "last_data_point = table_melted[(table_melted['Country Name'] == highest_loss_country) & (table_melted['Year'] == table_melted['Year'].max())]\n",
    "fig.add_annotation(x=last_data_point['Year'].values[0], y=last_data_point['Forest_Area'].values[0],\n",
    "                   text=f\"<b>Total % Lost: {last_data_point['Total Forest Area Lost (1993 - 2021)'].values[0]}%<b>\",\n",
    "                   showarrow=False, yshift=25)\n",
    "\n",
    "\n",
    "#Edit Layout of Graph\n",
    "fig.update_traces(selector={'name': highest_loss_country}, line=dict(color='red')) #make one data point stand out\n",
    "fig.update_xaxes(showgrid=False, range=[1993,2021])\n",
    "fig.update_yaxes(showgrid=False, range=[0,100])\n",
    "fig.update_layout(showlegend=False, title_x=0.5, title=dict(text='<b>The Country With The Highest Loss of Forest Area From 1993 to 2021<b>', font=dict(size=20)),\n",
    "                  paper_bgcolor='rgb(17,17,17)', plot_bgcolor='rgb(17,17,17)', font=dict(color='white')) # made the background black\n",
    "\n",
    "\n",
    "fig.show()"
   ]
  },
  {
   "cell_type": "code",
   "execution_count": 122,
   "metadata": {},
   "outputs": [
    {
     "data": {
      "application/vnd.plotly.v1+json": {
       "config": {
        "plotlyServerURL": "https://plot.ly"
       },
       "data": [
        {
         "hovertemplate": "Country Name=Cambodia<br>Year=%{x}<br>Forest Area=%{y}<extra></extra>",
         "legendgroup": "Cambodia",
         "line": {
          "color": "gray",
          "dash": "solid",
          "shape": "linear"
         },
         "marker": {
          "symbol": "circle"
         },
         "mode": "lines",
         "name": "Cambodia",
         "orientation": "h",
         "showlegend": true,
         "type": "scatter",
         "x": [
          1993,
          1994,
          1995,
          1996,
          1997,
          1998,
          1999,
          2000,
          2001,
          2002,
          2003,
          2004,
          2005,
          2006,
          2007,
          2008,
          2009,
          2010,
          2011,
          2012,
          2013,
          2014,
          2015,
          2016,
          2017,
          2018,
          2019,
          2020,
          2021,
          2022
         ],
         "xaxis": "x",
         "y": [
          "62%",
          "62%",
          "62%",
          "62%",
          "61%",
          "61%",
          "61%",
          "61%",
          "61%",
          "61%",
          "61%",
          "61%",
          "61%",
          "60%",
          "60%",
          "60%",
          "60%",
          "60%",
          "58%",
          "56%",
          "54%",
          "52%",
          "50%",
          "49%",
          "48%",
          "47%",
          "47%",
          "46%",
          "45%",
          "%"
         ],
         "yaxis": "y"
        },
        {
         "hovertemplate": "Country Name=Gambia, The<br>Year=%{x}<br>Forest Area=%{y}<extra></extra>",
         "legendgroup": "Gambia, The",
         "line": {
          "color": "gray",
          "dash": "solid",
          "shape": "linear"
         },
         "marker": {
          "symbol": "circle"
         },
         "mode": "lines",
         "name": "Gambia, The",
         "orientation": "h",
         "showlegend": true,
         "type": "scatter",
         "x": [
          1993,
          1994,
          1995,
          1996,
          1997,
          1998,
          1999,
          2000,
          2001,
          2002,
          2003,
          2004,
          2005,
          2006,
          2007,
          2008,
          2009,
          2010,
          2011,
          2012,
          2013,
          2014,
          2015,
          2016,
          2017,
          2018,
          2019,
          2020,
          2021,
          2022
         ],
         "xaxis": "x",
         "y": [
          "39%",
          "39%",
          "38%",
          "38%",
          "37%",
          "36%",
          "36%",
          "35%",
          "35%",
          "34%",
          "34%",
          "33%",
          "32%",
          "32%",
          "31%",
          "31%",
          "30%",
          "30%",
          "29%",
          "29%",
          "28%",
          "27%",
          "27%",
          "26%",
          "26%",
          "25%",
          "25%",
          "24%",
          "23%",
          "%"
         ],
         "yaxis": "y"
        },
        {
         "hovertemplate": "Country Name=Nicaragua<br>Year=%{x}<br>Forest Area=%{y}<extra></extra>",
         "legendgroup": "Nicaragua",
         "line": {
          "color": "red",
          "dash": "solid",
          "shape": "linear"
         },
         "marker": {
          "symbol": "circle"
         },
         "mode": "lines",
         "name": "Nicaragua",
         "orientation": "h",
         "showlegend": true,
         "type": "scatter",
         "x": [
          1993,
          1994,
          1995,
          1996,
          1997,
          1998,
          1999,
          2000,
          2001,
          2002,
          2003,
          2004,
          2005,
          2006,
          2007,
          2008,
          2009,
          2010,
          2011,
          2012,
          2013,
          2014,
          2015,
          2016,
          2017,
          2018,
          2019,
          2020,
          2021,
          2022
         ],
         "xaxis": "x",
         "y": [
          "51%",
          "50%",
          "49%",
          "48%",
          "47%",
          "47%",
          "46%",
          "45%",
          "44%",
          "43%",
          "42%",
          "41%",
          "40%",
          "39%",
          "38%",
          "37%",
          "36%",
          "35%",
          "34%",
          "34%",
          "33%",
          "33%",
          "32%",
          "32%",
          "31%",
          "30%",
          "29%",
          "28%",
          "27%",
          "%"
         ],
         "yaxis": "y"
        },
        {
         "hovertemplate": "Country Name=Northern Mariana Islands<br>Year=%{x}<br>Forest Area=%{y}<extra></extra>",
         "legendgroup": "Northern Mariana Islands",
         "line": {
          "color": "gray",
          "dash": "solid",
          "shape": "linear"
         },
         "marker": {
          "symbol": "circle"
         },
         "mode": "lines",
         "name": "Northern Mariana Islands",
         "orientation": "h",
         "showlegend": true,
         "type": "scatter",
         "x": [
          1993,
          1994,
          1995,
          1996,
          1997,
          1998,
          1999,
          2000,
          2001,
          2002,
          2003,
          2004,
          2005,
          2006,
          2007,
          2008,
          2009,
          2010,
          2011,
          2012,
          2013,
          2014,
          2015,
          2016,
          2017,
          2018,
          2019,
          2020,
          2021,
          2022
         ],
         "xaxis": "x",
         "y": [
          "72%",
          "72%",
          "71%",
          "71%",
          "71%",
          "70%",
          "70%",
          "69%",
          "69%",
          "69%",
          "68%",
          "68%",
          "68%",
          "67%",
          "67%",
          "67%",
          "66%",
          "66%",
          "66%",
          "65%",
          "65%",
          "64%",
          "64%",
          "53%",
          "53%",
          "53%",
          "53%",
          "53%",
          "53%",
          "%"
         ],
         "yaxis": "y"
        },
        {
         "hovertemplate": "Country Name=Paraguay<br>Year=%{x}<br>Forest Area=%{y}<extra></extra>",
         "legendgroup": "Paraguay",
         "line": {
          "color": "gray",
          "dash": "solid",
          "shape": "linear"
         },
         "marker": {
          "symbol": "circle"
         },
         "mode": "lines",
         "name": "Paraguay",
         "orientation": "h",
         "showlegend": true,
         "type": "scatter",
         "x": [
          1993,
          1994,
          1995,
          1996,
          1997,
          1998,
          1999,
          2000,
          2001,
          2002,
          2003,
          2004,
          2005,
          2006,
          2007,
          2008,
          2009,
          2010,
          2011,
          2012,
          2013,
          2014,
          2015,
          2016,
          2017,
          2018,
          2019,
          2020,
          2021,
          2022
         ],
         "xaxis": "x",
         "y": [
          "62%",
          "62%",
          "61%",
          "60%",
          "60%",
          "59%",
          "59%",
          "58%",
          "57%",
          "56%",
          "55%",
          "54%",
          "54%",
          "53%",
          "52%",
          "51%",
          "50%",
          "49%",
          "48%",
          "47%",
          "46%",
          "45%",
          "44%",
          "44%",
          "43%",
          "42%",
          "41%",
          "41%",
          "40%",
          "%"
         ],
         "yaxis": "y"
        }
       ],
       "layout": {
        "annotations": [
         {
          "showarrow": false,
          "text": "<b>Nicaragua<b>",
          "x": 2003,
          "y": "42%",
          "yshift": 20
         },
         {
          "showarrow": false,
          "text": "<b>Total % Lost: -24%<b>",
          "x": 2022,
          "y": "%",
          "yshift": 25
         }
        ],
        "font": {
         "color": "white"
        },
        "height": 600,
        "legend": {
         "title": {
          "text": "Country Name"
         },
         "tracegroupgap": 0
        },
        "margin": {
         "t": 60
        },
        "paper_bgcolor": "rgb(17,17,17)",
        "plot_bgcolor": "rgb(17,17,17)",
        "showlegend": false,
        "template": {
         "data": {
          "bar": [
           {
            "error_x": {
             "color": "#2a3f5f"
            },
            "error_y": {
             "color": "#2a3f5f"
            },
            "marker": {
             "line": {
              "color": "#E5ECF6",
              "width": 0.5
             },
             "pattern": {
              "fillmode": "overlay",
              "size": 10,
              "solidity": 0.2
             }
            },
            "type": "bar"
           }
          ],
          "barpolar": [
           {
            "marker": {
             "line": {
              "color": "#E5ECF6",
              "width": 0.5
             },
             "pattern": {
              "fillmode": "overlay",
              "size": 10,
              "solidity": 0.2
             }
            },
            "type": "barpolar"
           }
          ],
          "carpet": [
           {
            "aaxis": {
             "endlinecolor": "#2a3f5f",
             "gridcolor": "white",
             "linecolor": "white",
             "minorgridcolor": "white",
             "startlinecolor": "#2a3f5f"
            },
            "baxis": {
             "endlinecolor": "#2a3f5f",
             "gridcolor": "white",
             "linecolor": "white",
             "minorgridcolor": "white",
             "startlinecolor": "#2a3f5f"
            },
            "type": "carpet"
           }
          ],
          "choropleth": [
           {
            "colorbar": {
             "outlinewidth": 0,
             "ticks": ""
            },
            "type": "choropleth"
           }
          ],
          "contour": [
           {
            "colorbar": {
             "outlinewidth": 0,
             "ticks": ""
            },
            "colorscale": [
             [
              0,
              "#0d0887"
             ],
             [
              0.1111111111111111,
              "#46039f"
             ],
             [
              0.2222222222222222,
              "#7201a8"
             ],
             [
              0.3333333333333333,
              "#9c179e"
             ],
             [
              0.4444444444444444,
              "#bd3786"
             ],
             [
              0.5555555555555556,
              "#d8576b"
             ],
             [
              0.6666666666666666,
              "#ed7953"
             ],
             [
              0.7777777777777778,
              "#fb9f3a"
             ],
             [
              0.8888888888888888,
              "#fdca26"
             ],
             [
              1,
              "#f0f921"
             ]
            ],
            "type": "contour"
           }
          ],
          "contourcarpet": [
           {
            "colorbar": {
             "outlinewidth": 0,
             "ticks": ""
            },
            "type": "contourcarpet"
           }
          ],
          "heatmap": [
           {
            "colorbar": {
             "outlinewidth": 0,
             "ticks": ""
            },
            "colorscale": [
             [
              0,
              "#0d0887"
             ],
             [
              0.1111111111111111,
              "#46039f"
             ],
             [
              0.2222222222222222,
              "#7201a8"
             ],
             [
              0.3333333333333333,
              "#9c179e"
             ],
             [
              0.4444444444444444,
              "#bd3786"
             ],
             [
              0.5555555555555556,
              "#d8576b"
             ],
             [
              0.6666666666666666,
              "#ed7953"
             ],
             [
              0.7777777777777778,
              "#fb9f3a"
             ],
             [
              0.8888888888888888,
              "#fdca26"
             ],
             [
              1,
              "#f0f921"
             ]
            ],
            "type": "heatmap"
           }
          ],
          "heatmapgl": [
           {
            "colorbar": {
             "outlinewidth": 0,
             "ticks": ""
            },
            "colorscale": [
             [
              0,
              "#0d0887"
             ],
             [
              0.1111111111111111,
              "#46039f"
             ],
             [
              0.2222222222222222,
              "#7201a8"
             ],
             [
              0.3333333333333333,
              "#9c179e"
             ],
             [
              0.4444444444444444,
              "#bd3786"
             ],
             [
              0.5555555555555556,
              "#d8576b"
             ],
             [
              0.6666666666666666,
              "#ed7953"
             ],
             [
              0.7777777777777778,
              "#fb9f3a"
             ],
             [
              0.8888888888888888,
              "#fdca26"
             ],
             [
              1,
              "#f0f921"
             ]
            ],
            "type": "heatmapgl"
           }
          ],
          "histogram": [
           {
            "marker": {
             "pattern": {
              "fillmode": "overlay",
              "size": 10,
              "solidity": 0.2
             }
            },
            "type": "histogram"
           }
          ],
          "histogram2d": [
           {
            "colorbar": {
             "outlinewidth": 0,
             "ticks": ""
            },
            "colorscale": [
             [
              0,
              "#0d0887"
             ],
             [
              0.1111111111111111,
              "#46039f"
             ],
             [
              0.2222222222222222,
              "#7201a8"
             ],
             [
              0.3333333333333333,
              "#9c179e"
             ],
             [
              0.4444444444444444,
              "#bd3786"
             ],
             [
              0.5555555555555556,
              "#d8576b"
             ],
             [
              0.6666666666666666,
              "#ed7953"
             ],
             [
              0.7777777777777778,
              "#fb9f3a"
             ],
             [
              0.8888888888888888,
              "#fdca26"
             ],
             [
              1,
              "#f0f921"
             ]
            ],
            "type": "histogram2d"
           }
          ],
          "histogram2dcontour": [
           {
            "colorbar": {
             "outlinewidth": 0,
             "ticks": ""
            },
            "colorscale": [
             [
              0,
              "#0d0887"
             ],
             [
              0.1111111111111111,
              "#46039f"
             ],
             [
              0.2222222222222222,
              "#7201a8"
             ],
             [
              0.3333333333333333,
              "#9c179e"
             ],
             [
              0.4444444444444444,
              "#bd3786"
             ],
             [
              0.5555555555555556,
              "#d8576b"
             ],
             [
              0.6666666666666666,
              "#ed7953"
             ],
             [
              0.7777777777777778,
              "#fb9f3a"
             ],
             [
              0.8888888888888888,
              "#fdca26"
             ],
             [
              1,
              "#f0f921"
             ]
            ],
            "type": "histogram2dcontour"
           }
          ],
          "mesh3d": [
           {
            "colorbar": {
             "outlinewidth": 0,
             "ticks": ""
            },
            "type": "mesh3d"
           }
          ],
          "parcoords": [
           {
            "line": {
             "colorbar": {
              "outlinewidth": 0,
              "ticks": ""
             }
            },
            "type": "parcoords"
           }
          ],
          "pie": [
           {
            "automargin": true,
            "type": "pie"
           }
          ],
          "scatter": [
           {
            "fillpattern": {
             "fillmode": "overlay",
             "size": 10,
             "solidity": 0.2
            },
            "type": "scatter"
           }
          ],
          "scatter3d": [
           {
            "line": {
             "colorbar": {
              "outlinewidth": 0,
              "ticks": ""
             }
            },
            "marker": {
             "colorbar": {
              "outlinewidth": 0,
              "ticks": ""
             }
            },
            "type": "scatter3d"
           }
          ],
          "scattercarpet": [
           {
            "marker": {
             "colorbar": {
              "outlinewidth": 0,
              "ticks": ""
             }
            },
            "type": "scattercarpet"
           }
          ],
          "scattergeo": [
           {
            "marker": {
             "colorbar": {
              "outlinewidth": 0,
              "ticks": ""
             }
            },
            "type": "scattergeo"
           }
          ],
          "scattergl": [
           {
            "marker": {
             "colorbar": {
              "outlinewidth": 0,
              "ticks": ""
             }
            },
            "type": "scattergl"
           }
          ],
          "scattermapbox": [
           {
            "marker": {
             "colorbar": {
              "outlinewidth": 0,
              "ticks": ""
             }
            },
            "type": "scattermapbox"
           }
          ],
          "scatterpolar": [
           {
            "marker": {
             "colorbar": {
              "outlinewidth": 0,
              "ticks": ""
             }
            },
            "type": "scatterpolar"
           }
          ],
          "scatterpolargl": [
           {
            "marker": {
             "colorbar": {
              "outlinewidth": 0,
              "ticks": ""
             }
            },
            "type": "scatterpolargl"
           }
          ],
          "scatterternary": [
           {
            "marker": {
             "colorbar": {
              "outlinewidth": 0,
              "ticks": ""
             }
            },
            "type": "scatterternary"
           }
          ],
          "surface": [
           {
            "colorbar": {
             "outlinewidth": 0,
             "ticks": ""
            },
            "colorscale": [
             [
              0,
              "#0d0887"
             ],
             [
              0.1111111111111111,
              "#46039f"
             ],
             [
              0.2222222222222222,
              "#7201a8"
             ],
             [
              0.3333333333333333,
              "#9c179e"
             ],
             [
              0.4444444444444444,
              "#bd3786"
             ],
             [
              0.5555555555555556,
              "#d8576b"
             ],
             [
              0.6666666666666666,
              "#ed7953"
             ],
             [
              0.7777777777777778,
              "#fb9f3a"
             ],
             [
              0.8888888888888888,
              "#fdca26"
             ],
             [
              1,
              "#f0f921"
             ]
            ],
            "type": "surface"
           }
          ],
          "table": [
           {
            "cells": {
             "fill": {
              "color": "#EBF0F8"
             },
             "line": {
              "color": "white"
             }
            },
            "header": {
             "fill": {
              "color": "#C8D4E3"
             },
             "line": {
              "color": "white"
             }
            },
            "type": "table"
           }
          ]
         },
         "layout": {
          "annotationdefaults": {
           "arrowcolor": "#2a3f5f",
           "arrowhead": 0,
           "arrowwidth": 1
          },
          "autotypenumbers": "strict",
          "coloraxis": {
           "colorbar": {
            "outlinewidth": 0,
            "ticks": ""
           }
          },
          "colorscale": {
           "diverging": [
            [
             0,
             "#8e0152"
            ],
            [
             0.1,
             "#c51b7d"
            ],
            [
             0.2,
             "#de77ae"
            ],
            [
             0.3,
             "#f1b6da"
            ],
            [
             0.4,
             "#fde0ef"
            ],
            [
             0.5,
             "#f7f7f7"
            ],
            [
             0.6,
             "#e6f5d0"
            ],
            [
             0.7,
             "#b8e186"
            ],
            [
             0.8,
             "#7fbc41"
            ],
            [
             0.9,
             "#4d9221"
            ],
            [
             1,
             "#276419"
            ]
           ],
           "sequential": [
            [
             0,
             "#0d0887"
            ],
            [
             0.1111111111111111,
             "#46039f"
            ],
            [
             0.2222222222222222,
             "#7201a8"
            ],
            [
             0.3333333333333333,
             "#9c179e"
            ],
            [
             0.4444444444444444,
             "#bd3786"
            ],
            [
             0.5555555555555556,
             "#d8576b"
            ],
            [
             0.6666666666666666,
             "#ed7953"
            ],
            [
             0.7777777777777778,
             "#fb9f3a"
            ],
            [
             0.8888888888888888,
             "#fdca26"
            ],
            [
             1,
             "#f0f921"
            ]
           ],
           "sequentialminus": [
            [
             0,
             "#0d0887"
            ],
            [
             0.1111111111111111,
             "#46039f"
            ],
            [
             0.2222222222222222,
             "#7201a8"
            ],
            [
             0.3333333333333333,
             "#9c179e"
            ],
            [
             0.4444444444444444,
             "#bd3786"
            ],
            [
             0.5555555555555556,
             "#d8576b"
            ],
            [
             0.6666666666666666,
             "#ed7953"
            ],
            [
             0.7777777777777778,
             "#fb9f3a"
            ],
            [
             0.8888888888888888,
             "#fdca26"
            ],
            [
             1,
             "#f0f921"
            ]
           ]
          },
          "colorway": [
           "#636efa",
           "#EF553B",
           "#00cc96",
           "#ab63fa",
           "#FFA15A",
           "#19d3f3",
           "#FF6692",
           "#B6E880",
           "#FF97FF",
           "#FECB52"
          ],
          "font": {
           "color": "#2a3f5f"
          },
          "geo": {
           "bgcolor": "white",
           "lakecolor": "white",
           "landcolor": "#E5ECF6",
           "showlakes": true,
           "showland": true,
           "subunitcolor": "white"
          },
          "hoverlabel": {
           "align": "left"
          },
          "hovermode": "closest",
          "mapbox": {
           "style": "light"
          },
          "paper_bgcolor": "white",
          "plot_bgcolor": "#E5ECF6",
          "polar": {
           "angularaxis": {
            "gridcolor": "white",
            "linecolor": "white",
            "ticks": ""
           },
           "bgcolor": "#E5ECF6",
           "radialaxis": {
            "gridcolor": "white",
            "linecolor": "white",
            "ticks": ""
           }
          },
          "scene": {
           "xaxis": {
            "backgroundcolor": "#E5ECF6",
            "gridcolor": "white",
            "gridwidth": 2,
            "linecolor": "white",
            "showbackground": true,
            "ticks": "",
            "zerolinecolor": "white"
           },
           "yaxis": {
            "backgroundcolor": "#E5ECF6",
            "gridcolor": "white",
            "gridwidth": 2,
            "linecolor": "white",
            "showbackground": true,
            "ticks": "",
            "zerolinecolor": "white"
           },
           "zaxis": {
            "backgroundcolor": "#E5ECF6",
            "gridcolor": "white",
            "gridwidth": 2,
            "linecolor": "white",
            "showbackground": true,
            "ticks": "",
            "zerolinecolor": "white"
           }
          },
          "shapedefaults": {
           "line": {
            "color": "#2a3f5f"
           }
          },
          "ternary": {
           "aaxis": {
            "gridcolor": "white",
            "linecolor": "white",
            "ticks": ""
           },
           "baxis": {
            "gridcolor": "white",
            "linecolor": "white",
            "ticks": ""
           },
           "bgcolor": "#E5ECF6",
           "caxis": {
            "gridcolor": "white",
            "linecolor": "white",
            "ticks": ""
           }
          },
          "title": {
           "x": 0.05
          },
          "xaxis": {
           "automargin": true,
           "gridcolor": "white",
           "linecolor": "white",
           "ticks": "",
           "title": {
            "standoff": 15
           },
           "zerolinecolor": "white",
           "zerolinewidth": 2
          },
          "yaxis": {
           "automargin": true,
           "gridcolor": "white",
           "linecolor": "white",
           "ticks": "",
           "title": {
            "standoff": 15
           },
           "zerolinecolor": "white",
           "zerolinewidth": 2
          }
         }
        },
        "title": {
         "font": {
          "size": 20
         },
         "text": "<b>The Country With The Highest Loss of Forest Area From 1993 to 2021<b>",
         "x": 0.5
        },
        "width": 1000,
        "xaxis": {
         "anchor": "y",
         "domain": [
          0,
          1
         ],
         "range": [
          1993,
          2021
         ],
         "showgrid": false,
         "title": {
          "text": "Year"
         }
        },
        "yaxis": {
         "anchor": "x",
         "domain": [
          0,
          1
         ],
         "range": [
          0,
          100
         ],
         "showgrid": false,
         "title": {
          "text": "Forest Area"
         }
        }
       }
      }
     },
     "metadata": {},
     "output_type": "display_data"
    }
   ],
   "source": [
    "# Sort the melted DataFrame by 'Year' and 'Country Name'\n",
    "table_melted = table_melted.sort_values(by=['Year', 'Country Name'])\n",
    "\n",
    "# Create the plot\n",
    "fig = px.line(table_melted, \n",
    "              x='Year', \n",
    "              y='Forest_Area', \n",
    "              color='Country Name',\n",
    "              labels={'Forest_Area': 'Forest Area'},\n",
    "              line_shape='linear',\n",
    "              width=1000, height=600)\n",
    "\n",
    "# Gray out all lines\n",
    "fig.update_traces(line=dict(color='gray'))\n",
    "\n",
    "# Find Country with the highest total loss of Forest Area from 1993 to 2021\n",
    "highest_loss_country = table_melted.loc[table_melted['Total Forest Area Lost (1993 - 2021)'].idxmin()]['Country Name']\n",
    "\n",
    "# Add annotations to the country with the highest Forest loss\n",
    "anno_data = table_melted[table_melted['Country Name'] == highest_loss_country].iloc[10]\n",
    "fig.add_annotation(x=anno_data['Year'], y=anno_data['Forest_Area'],\n",
    "                   text=f\"<b>{highest_loss_country}<b>\",\n",
    "                   showarrow=False, yshift=20)\n",
    "\n",
    "last_data_point = table_melted[(table_melted['Country Name'] == highest_loss_country) & (table_melted['Year'] == table_melted['Year'].max())]\n",
    "fig.add_annotation(x=last_data_point['Year'].values[0], y=last_data_point['Forest_Area'].values[0],\n",
    "                   text=f\"<b>Total % Lost: {last_data_point['Total Forest Area Lost (1993 - 2021)'].values[0]}%<b>\",\n",
    "                   showarrow=False, yshift=25)\n",
    "\n",
    "# Edit Layout of Graph\n",
    "fig.update_traces(selector={'name': highest_loss_country}, line=dict(color='red'))  # Make one data point stand out\n",
    "fig.update_xaxes(showgrid=False, range=[1993, 2021])\n",
    "fig.update_yaxes(showgrid=False, range=[0, 100])\n",
    "fig.update_layout(showlegend=False, title_x=0.5, title=dict(text='<b>The Country With The Highest Loss of Forest Area From 1993 to 2021<b>', font=dict(size=20)),\n",
    "                  paper_bgcolor='rgb(17,17,17)', plot_bgcolor='rgb(17,17,17)', font=dict(color='white'))  # Made the background black\n",
    "\n",
    "fig.show()\n"
   ]
  },
  {
   "cell_type": "code",
   "execution_count": 121,
   "metadata": {},
   "outputs": [
    {
     "ename": "KeyError",
     "evalue": "\"The following 'id_vars' are not present in the DataFrame: ['Country_Name', 'Difference_1993_2021', 'Indicator_Name']\"",
     "output_type": "error",
     "traceback": [
      "\u001b[1;31m---------------------------------------------------------------------------\u001b[0m",
      "\u001b[1;31mKeyError\u001b[0m                                  Traceback (most recent call last)",
      "Cell \u001b[1;32mIn[121], line 5\u001b[0m\n\u001b[0;32m      1\u001b[0m \u001b[38;5;28;01mimport\u001b[39;00m \u001b[38;5;21;01mplotly\u001b[39;00m\u001b[38;5;21;01m.\u001b[39;00m\u001b[38;5;21;01mexpress\u001b[39;00m \u001b[38;5;28;01mas\u001b[39;00m \u001b[38;5;21;01mpx\u001b[39;00m\n\u001b[0;32m      4\u001b[0m \u001b[38;5;66;03m#edit database results for plotly\u001b[39;00m\n\u001b[1;32m----> 5\u001b[0m table_melted \u001b[38;5;241m=\u001b[39m \u001b[43mtable\u001b[49m\u001b[38;5;241;43m.\u001b[39;49m\u001b[43mmelt\u001b[49m\u001b[43m(\u001b[49m\u001b[43mid_vars\u001b[49m\u001b[38;5;241;43m=\u001b[39;49m\u001b[43m[\u001b[49m\u001b[38;5;124;43m'\u001b[39;49m\u001b[38;5;124;43mCountry_Name\u001b[39;49m\u001b[38;5;124;43m'\u001b[39;49m\u001b[43m,\u001b[49m\u001b[43m \u001b[49m\u001b[38;5;124;43m'\u001b[39;49m\u001b[38;5;124;43mIndicator_Name\u001b[39;49m\u001b[38;5;124;43m'\u001b[39;49m\u001b[43m,\u001b[49m\u001b[43m \u001b[49m\u001b[38;5;124;43m'\u001b[39;49m\u001b[38;5;124;43mDifference_1993_2021\u001b[39;49m\u001b[38;5;124;43m'\u001b[39;49m\u001b[43m]\u001b[49m\u001b[43m,\u001b[49m\u001b[43m \u001b[49m\u001b[43mvar_name\u001b[49m\u001b[38;5;241;43m=\u001b[39;49m\u001b[38;5;124;43m'\u001b[39;49m\u001b[38;5;124;43mYear\u001b[39;49m\u001b[38;5;124;43m'\u001b[39;49m\u001b[43m,\u001b[49m\u001b[43m \u001b[49m\u001b[43mvalue_name\u001b[49m\u001b[38;5;241;43m=\u001b[39;49m\u001b[38;5;124;43m'\u001b[39;49m\u001b[38;5;124;43mForest_Area\u001b[39;49m\u001b[38;5;124;43m'\u001b[39;49m\u001b[43m)\u001b[49m\n\u001b[0;32m      6\u001b[0m table_melted[\u001b[38;5;124m'\u001b[39m\u001b[38;5;124mYear\u001b[39m\u001b[38;5;124m'\u001b[39m] \u001b[38;5;241m=\u001b[39m table_melted[\u001b[38;5;124m'\u001b[39m\u001b[38;5;124mYear\u001b[39m\u001b[38;5;124m'\u001b[39m]\u001b[38;5;241m.\u001b[39mstr\u001b[38;5;241m.\u001b[39mextract(\u001b[38;5;124m'\u001b[39m\u001b[38;5;124m(\u001b[39m\u001b[38;5;124m\\\u001b[39m\u001b[38;5;124md+)\u001b[39m\u001b[38;5;124m'\u001b[39m, expand\u001b[38;5;241m=\u001b[39m\u001b[38;5;28;01mFalse\u001b[39;00m)\u001b[38;5;241m.\u001b[39mastype(\u001b[38;5;28mint\u001b[39m)\n\u001b[0;32m     10\u001b[0m \u001b[38;5;66;03m#create graph\u001b[39;00m\n",
      "File \u001b[1;32mc:\\Users\\ERMCl\\AppData\\Local\\Programs\\Python\\Python311\\Lib\\site-packages\\pandas\\core\\frame.py:8975\u001b[0m, in \u001b[0;36mDataFrame.melt\u001b[1;34m(self, id_vars, value_vars, var_name, value_name, col_level, ignore_index)\u001b[0m\n\u001b[0;32m   8965\u001b[0m \u001b[38;5;129m@Appender\u001b[39m(_shared_docs[\u001b[38;5;124m\"\u001b[39m\u001b[38;5;124mmelt\u001b[39m\u001b[38;5;124m\"\u001b[39m] \u001b[38;5;241m%\u001b[39m {\u001b[38;5;124m\"\u001b[39m\u001b[38;5;124mcaller\u001b[39m\u001b[38;5;124m\"\u001b[39m: \u001b[38;5;124m\"\u001b[39m\u001b[38;5;124mdf.melt(\u001b[39m\u001b[38;5;124m\"\u001b[39m, \u001b[38;5;124m\"\u001b[39m\u001b[38;5;124mother\u001b[39m\u001b[38;5;124m\"\u001b[39m: \u001b[38;5;124m\"\u001b[39m\u001b[38;5;124mmelt\u001b[39m\u001b[38;5;124m\"\u001b[39m})\n\u001b[0;32m   8966\u001b[0m \u001b[38;5;28;01mdef\u001b[39;00m \u001b[38;5;21mmelt\u001b[39m(\n\u001b[0;32m   8967\u001b[0m     \u001b[38;5;28mself\u001b[39m,\n\u001b[1;32m   (...)\u001b[0m\n\u001b[0;32m   8973\u001b[0m     ignore_index: \u001b[38;5;28mbool\u001b[39m \u001b[38;5;241m=\u001b[39m \u001b[38;5;28;01mTrue\u001b[39;00m,\n\u001b[0;32m   8974\u001b[0m ) \u001b[38;5;241m-\u001b[39m\u001b[38;5;241m>\u001b[39m DataFrame:\n\u001b[1;32m-> 8975\u001b[0m     \u001b[38;5;28;01mreturn\u001b[39;00m \u001b[43mmelt\u001b[49m\u001b[43m(\u001b[49m\n\u001b[0;32m   8976\u001b[0m \u001b[43m        \u001b[49m\u001b[38;5;28;43mself\u001b[39;49m\u001b[43m,\u001b[49m\n\u001b[0;32m   8977\u001b[0m \u001b[43m        \u001b[49m\u001b[43mid_vars\u001b[49m\u001b[38;5;241;43m=\u001b[39;49m\u001b[43mid_vars\u001b[49m\u001b[43m,\u001b[49m\n\u001b[0;32m   8978\u001b[0m \u001b[43m        \u001b[49m\u001b[43mvalue_vars\u001b[49m\u001b[38;5;241;43m=\u001b[39;49m\u001b[43mvalue_vars\u001b[49m\u001b[43m,\u001b[49m\n\u001b[0;32m   8979\u001b[0m \u001b[43m        \u001b[49m\u001b[43mvar_name\u001b[49m\u001b[38;5;241;43m=\u001b[39;49m\u001b[43mvar_name\u001b[49m\u001b[43m,\u001b[49m\n\u001b[0;32m   8980\u001b[0m \u001b[43m        \u001b[49m\u001b[43mvalue_name\u001b[49m\u001b[38;5;241;43m=\u001b[39;49m\u001b[43mvalue_name\u001b[49m\u001b[43m,\u001b[49m\n\u001b[0;32m   8981\u001b[0m \u001b[43m        \u001b[49m\u001b[43mcol_level\u001b[49m\u001b[38;5;241;43m=\u001b[39;49m\u001b[43mcol_level\u001b[49m\u001b[43m,\u001b[49m\n\u001b[0;32m   8982\u001b[0m \u001b[43m        \u001b[49m\u001b[43mignore_index\u001b[49m\u001b[38;5;241;43m=\u001b[39;49m\u001b[43mignore_index\u001b[49m\u001b[43m,\u001b[49m\n\u001b[0;32m   8983\u001b[0m \u001b[43m    \u001b[49m\u001b[43m)\u001b[49m\u001b[38;5;241m.\u001b[39m__finalize__(\u001b[38;5;28mself\u001b[39m, method\u001b[38;5;241m=\u001b[39m\u001b[38;5;124m\"\u001b[39m\u001b[38;5;124mmelt\u001b[39m\u001b[38;5;124m\"\u001b[39m)\n",
      "File \u001b[1;32mc:\\Users\\ERMCl\\AppData\\Local\\Programs\\Python\\Python311\\Lib\\site-packages\\pandas\\core\\reshape\\melt.py:73\u001b[0m, in \u001b[0;36mmelt\u001b[1;34m(frame, id_vars, value_vars, var_name, value_name, col_level, ignore_index)\u001b[0m\n\u001b[0;32m     71\u001b[0m         missing \u001b[38;5;241m=\u001b[39m Index(com\u001b[38;5;241m.\u001b[39mflatten(id_vars))\u001b[38;5;241m.\u001b[39mdifference(cols)\n\u001b[0;32m     72\u001b[0m         \u001b[38;5;28;01mif\u001b[39;00m \u001b[38;5;129;01mnot\u001b[39;00m missing\u001b[38;5;241m.\u001b[39mempty:\n\u001b[1;32m---> 73\u001b[0m             \u001b[38;5;28;01mraise\u001b[39;00m \u001b[38;5;167;01mKeyError\u001b[39;00m(\n\u001b[0;32m     74\u001b[0m                 \u001b[38;5;124m\"\u001b[39m\u001b[38;5;124mThe following \u001b[39m\u001b[38;5;124m'\u001b[39m\u001b[38;5;124mid_vars\u001b[39m\u001b[38;5;124m'\u001b[39m\u001b[38;5;124m are not present \u001b[39m\u001b[38;5;124m\"\u001b[39m\n\u001b[0;32m     75\u001b[0m                 \u001b[38;5;124mf\u001b[39m\u001b[38;5;124m\"\u001b[39m\u001b[38;5;124min the DataFrame: \u001b[39m\u001b[38;5;132;01m{\u001b[39;00m\u001b[38;5;28mlist\u001b[39m(missing)\u001b[38;5;132;01m}\u001b[39;00m\u001b[38;5;124m\"\u001b[39m\n\u001b[0;32m     76\u001b[0m             )\n\u001b[0;32m     77\u001b[0m \u001b[38;5;28;01melse\u001b[39;00m:\n\u001b[0;32m     78\u001b[0m     id_vars \u001b[38;5;241m=\u001b[39m []\n",
      "\u001b[1;31mKeyError\u001b[0m: \"The following 'id_vars' are not present in the DataFrame: ['Country_Name', 'Difference_1993_2021', 'Indicator_Name']\""
     ]
    }
   ],
   "source": [
    "import plotly.express as px\n",
    "\n",
    "\n",
    "#edit database results for plotly\n",
    "table_melted = table.melt(id_vars=['Country_Name', 'Indicator_Name', 'Difference_1993_2021'], var_name='Year', value_name='Forest_Area')\n",
    "table_melted['Year'] = table_melted['Year'].str.extract('(\\d+)', expand=False).astype(int)\n",
    "\n",
    "\n",
    "\n",
    "#create graph\n",
    "fig = px.line(table_melted, \n",
    "              x='Year', \n",
    "              y='Forest_Area', \n",
    "              color='Country_Name',\n",
    "              labels={'Forest_Area': '% Forest Area'},\n",
    "              line_shape='linear',\n",
    "              width=1000, height=600)\n",
    "\n",
    "\n",
    "#gray out all lines\n",
    "fig.update_traces(line=dict(color='gray'))\n",
    "\n",
    "#find Country with the highest total loss of Forest Area from 1993 to 2021\n",
    "highest_loss_country = table_melted.loc[table_melted['Difference_1993_2021'].idxmin()]['Country_Name']\n",
    "\n",
    "\n",
    "#Add annotations to the country with the highest Forest loss\n",
    "anno_data = table_melted[table_melted['Country_Name'] == highest_loss_country].iloc[10]\n",
    "fig.add_annotation(x=anno_data['Year'], y=anno_data['Forest_Area'],\n",
    "                   text=f\"<b>{highest_loss_country}<b>\",\n",
    "                   showarrow=False, yshift=20)\n",
    "    \n",
    "last_data_point = table_melted[(table_melted['Country_Name'] == highest_loss_country) & (table_melted['Year'] == table_melted['Year'].max())]\n",
    "fig.add_annotation(x=last_data_point['Year'].values[0], y=last_data_point['Forest_Area'].values[0],\n",
    "                   text=f\"<b>Total % Lost: {last_data_point['Difference_1993_2021'].values[0]}%<b>\",\n",
    "                   showarrow=False, yshift=25)\n",
    "\n",
    "\n",
    "#Edit Layout of Graph\n",
    "fig.update_traces(selector={'name': highest_loss_country}, line=dict(color='red')) #make one data point stand out\n",
    "fig.update_xaxes(showgrid=False, range=[1993,2021])\n",
    "fig.update_yaxes(showgrid=False, range=[20,100])\n",
    "fig.update_layout(showlegend=False, title_x=0.5, title=dict(text='<b>The Country With The Highest Loss of Forest Area From 1993 to 2021<b>', font=dict(size=20)),\n",
    "                  paper_bgcolor='rgb(17,17,17)', plot_bgcolor='rgb(17,17,17)', font=dict(color='white')) # made the background black\n",
    "\n",
    "\n",
    "# Preparing the frames for the animation\n",
    "years = sorted(table_melted['Year'].unique())\n",
    "frames = []\n",
    "\n",
    "for year in years:\n",
    "    frame_data = table_melted[table_melted['Year'] <= year]\n",
    "    frame_traces = [\n",
    "        go.Scatter(\n",
    "            x=frame_data[frame_data['Country_Name'] == country]['Year'], \n",
    "            y=frame_data[frame_data['Country_Name'] == country]['Forest_Area'],\n",
    "            mode='lines',\n",
    "            line=dict(color='red' if country == highest_loss_country else 'gray'),\n",
    "            name=country\n",
    "        ) for country in frame_data['Country_Name'].unique()\n",
    "    ]\n",
    "    \n",
    "    # Add year annotation to each frame\n",
    "    frame_traces.append(go.Scatter(\n",
    "        x=[max(frame_data['Year'])],  # Position of the year annotation\n",
    "        y=[max(frame_data['Forest_Area'])],  # Adjust y-axis position as needed\n",
    "        text=[str(year)],\n",
    "        mode=\"text\",\n",
    "        showlegend=False\n",
    "    ))\n",
    "\n",
    "    frame = go.Frame(data=frame_traces, name=str(year))\n",
    "    frames.append(frame)\n",
    "\n",
    "fig.frames = frames\n",
    "\n",
    "\n",
    "\n",
    "\n",
    "# Add animation controls\n",
    "fig.update_layout(\n",
    "    updatemenus=[{\n",
    "        'type': 'buttons',\n",
    "        'buttons': [{\n",
    "            'label': 'Play',\n",
    "            'method': 'animate',\n",
    "            'args': [None, {'frame': {'duration': 300, 'redraw': True}, \n",
    "                            'fromcurrent': True, \n",
    "                            'transition': {'duration': 200, 'easing': 'linear'}}]\n",
    "        }],\n",
    "        'direction': 'left',\n",
    "        'showactive': False,\n",
    "        'x': 0.1,\n",
    "        'xanchor': 'right',\n",
    "        'y': 0,\n",
    "        'yanchor': 'top'\n",
    "    }],\n",
    "    sliders=[{\n",
    "        'steps': [{'method': 'animate', \n",
    "                   'args': [[f'{year}'], \n",
    "                            {'frame': {'duration': 400, 'redraw': True}, \n",
    "                             'mode': 'immediate',\n",
    "                             'transition': {'duration': 200}}],\n",
    "                   'label': str(year)} for year in years]\n",
    "    }]\n",
    ")\n",
    "\n",
    "\n",
    "\n",
    "fig.show()"
   ]
  }
 ],
 "metadata": {
  "kernelspec": {
   "display_name": "Python 3",
   "language": "python",
   "name": "python3"
  },
  "language_info": {
   "codemirror_mode": {
    "name": "ipython",
    "version": 3
   },
   "file_extension": ".py",
   "mimetype": "text/x-python",
   "name": "python",
   "nbconvert_exporter": "python",
   "pygments_lexer": "ipython3",
   "version": "3.11.4"
  }
 },
 "nbformat": 4,
 "nbformat_minor": 2
}
